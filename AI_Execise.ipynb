{
 "cells": [
  {
   "cell_type": "markdown",
   "metadata": {},
   "source": [
    "## SpeakFeel AI Exercise\n",
    "\n",
    "Objectives:\n",
    "\n",
    "Using Tensorflow and Python, build a LSTM model that will predict the temperature for the next day at the Capital Center, using the historical precipitation and temperature data in the supplied data set (attached CSV file). \n",
    "\n",
    "Along with the python file(s) please provide a brief description to explain your process, thinking, methodology and any key points for your solution.\n",
    "\n",
    "Notes:\n",
    "- Temperatures in the supplied CSV file are in fahrenheit.\n",
    "- Precipitation is in inches"
   ]
  },
  {
   "cell_type": "code",
   "execution_count": 1,
   "metadata": {},
   "outputs": [
    {
     "name": "stderr",
     "output_type": "stream",
     "text": [
      "C:\\Users\\LLC\\Anaconda3\\lib\\site-packages\\h5py\\__init__.py:36: FutureWarning: Conversion of the second argument of issubdtype from `float` to `np.floating` is deprecated. In future, it will be treated as `np.float64 == np.dtype(float).type`.\n",
      "  from ._conv import register_converters as _register_converters\n",
      "Using TensorFlow backend.\n"
     ]
    }
   ],
   "source": [
    "import pandas as pd\n",
    "import numpy as np\n",
    "import matplotlib.pyplot as plt\n",
    "\n",
    "from sklearn.preprocessing import MinMaxScaler\n",
    "from sklearn.preprocessing import StandardScaler\n",
    "from sklearn.metrics import mean_squared_error\n",
    "from keras.models import Sequential\n",
    "from keras.layers import Dense\n",
    "from keras.layers import LSTM\n",
    "\n",
    "import warnings\n",
    "\n",
    "warnings.filterwarnings('ignore')\n",
    "\n",
    "%matplotlib inline"
   ]
  },
  {
   "cell_type": "markdown",
   "metadata": {},
   "source": [
    "## Outline\n",
    "1. Data preparation\n",
    "2. Modeling\n",
    "\n",
    "3. Conclusion"
   ]
  },
  {
   "cell_type": "markdown",
   "metadata": {},
   "source": [
    "-------------"
   ]
  },
  {
   "cell_type": "markdown",
   "metadata": {},
   "source": [
    "### 1.1 Read table"
   ]
  },
  {
   "cell_type": "code",
   "execution_count": 2,
   "metadata": {
    "scrolled": true
   },
   "outputs": [
    {
     "data": {
      "text/html": [
       "<div>\n",
       "<style scoped>\n",
       "    .dataframe tbody tr th:only-of-type {\n",
       "        vertical-align: middle;\n",
       "    }\n",
       "\n",
       "    .dataframe tbody tr th {\n",
       "        vertical-align: top;\n",
       "    }\n",
       "\n",
       "    .dataframe thead th {\n",
       "        text-align: right;\n",
       "    }\n",
       "</style>\n",
       "<table border=\"1\" class=\"dataframe\">\n",
       "  <thead>\n",
       "    <tr style=\"text-align: right;\">\n",
       "      <th></th>\n",
       "      <th>date</th>\n",
       "      <th>venue</th>\n",
       "      <th>temperature</th>\n",
       "      <th>precipitation</th>\n",
       "    </tr>\n",
       "    <tr>\n",
       "      <th>id</th>\n",
       "      <th></th>\n",
       "      <th></th>\n",
       "      <th></th>\n",
       "      <th></th>\n",
       "    </tr>\n",
       "  </thead>\n",
       "  <tbody>\n",
       "    <tr>\n",
       "      <th>21700001</th>\n",
       "      <td>2017-10-17</td>\n",
       "      <td>Quicken Loans Arena</td>\n",
       "      <td>53.51</td>\n",
       "      <td>0.0000</td>\n",
       "    </tr>\n",
       "    <tr>\n",
       "      <th>21700002</th>\n",
       "      <td>2017-10-17</td>\n",
       "      <td>Oracle Arena</td>\n",
       "      <td>81.79</td>\n",
       "      <td>0.0000</td>\n",
       "    </tr>\n",
       "    <tr>\n",
       "      <th>21700003</th>\n",
       "      <td>2017-10-18</td>\n",
       "      <td>Little Caesars Arena</td>\n",
       "      <td>67.30</td>\n",
       "      <td>0.0000</td>\n",
       "    </tr>\n",
       "    <tr>\n",
       "      <th>21700004</th>\n",
       "      <td>2017-10-18</td>\n",
       "      <td>Bankers Life Fieldhouse</td>\n",
       "      <td>65.36</td>\n",
       "      <td>0.0000</td>\n",
       "    </tr>\n",
       "    <tr>\n",
       "      <th>21700005</th>\n",
       "      <td>2017-10-18</td>\n",
       "      <td>Amway Center</td>\n",
       "      <td>75.14</td>\n",
       "      <td>0.0005</td>\n",
       "    </tr>\n",
       "  </tbody>\n",
       "</table>\n",
       "</div>"
      ],
      "text/plain": [
       "                date                    venue  temperature  precipitation\n",
       "id                                                                       \n",
       "21700001  2017-10-17      Quicken Loans Arena        53.51         0.0000\n",
       "21700002  2017-10-17             Oracle Arena        81.79         0.0000\n",
       "21700003  2017-10-18     Little Caesars Arena        67.30         0.0000\n",
       "21700004  2017-10-18  Bankers Life Fieldhouse        65.36         0.0000\n",
       "21700005  2017-10-18             Amway Center        75.14         0.0005"
      ]
     },
     "execution_count": 2,
     "metadata": {},
     "output_type": "execute_result"
    }
   ],
   "source": [
    "raw = pd.read_csv('./data.csv', index_col='id')\n",
    "raw.head()"
   ]
  },
  {
   "cell_type": "code",
   "execution_count": 3,
   "metadata": {},
   "outputs": [
    {
     "name": "stdout",
     "output_type": "stream",
     "text": [
      "<class 'pandas.core.frame.DataFrame'>\n",
      "Int64Index: 2132 entries, 21700001 to 1621800006\n",
      "Data columns (total 4 columns):\n",
      "date             2132 non-null object\n",
      "venue            2132 non-null object\n",
      "temperature      2132 non-null float64\n",
      "precipitation    2106 non-null float64\n",
      "dtypes: float64(2), object(2)\n",
      "memory usage: 83.3+ KB\n"
     ]
    }
   ],
   "source": [
    "raw.info()"
   ]
  },
  {
   "cell_type": "code",
   "execution_count": 4,
   "metadata": {},
   "outputs": [
    {
     "data": {
      "text/html": [
       "<div>\n",
       "<style scoped>\n",
       "    .dataframe tbody tr th:only-of-type {\n",
       "        vertical-align: middle;\n",
       "    }\n",
       "\n",
       "    .dataframe tbody tr th {\n",
       "        vertical-align: top;\n",
       "    }\n",
       "\n",
       "    .dataframe thead th {\n",
       "        text-align: right;\n",
       "    }\n",
       "</style>\n",
       "<table border=\"1\" class=\"dataframe\">\n",
       "  <thead>\n",
       "    <tr style=\"text-align: right;\">\n",
       "      <th></th>\n",
       "      <th>count</th>\n",
       "      <th>mean</th>\n",
       "      <th>std</th>\n",
       "      <th>min</th>\n",
       "      <th>25%</th>\n",
       "      <th>50%</th>\n",
       "      <th>75%</th>\n",
       "      <th>max</th>\n",
       "    </tr>\n",
       "  </thead>\n",
       "  <tbody>\n",
       "    <tr>\n",
       "      <th>temperature</th>\n",
       "      <td>2132.0</td>\n",
       "      <td>56.077603</td>\n",
       "      <td>19.693321</td>\n",
       "      <td>-6.73</td>\n",
       "      <td>41.5725</td>\n",
       "      <td>56.12</td>\n",
       "      <td>70.4</td>\n",
       "      <td>112.940</td>\n",
       "    </tr>\n",
       "    <tr>\n",
       "      <th>precipitation</th>\n",
       "      <td>2106.0</td>\n",
       "      <td>0.002723</td>\n",
       "      <td>0.014793</td>\n",
       "      <td>0.00</td>\n",
       "      <td>0.0000</td>\n",
       "      <td>0.00</td>\n",
       "      <td>0.0</td>\n",
       "      <td>0.257</td>\n",
       "    </tr>\n",
       "  </tbody>\n",
       "</table>\n",
       "</div>"
      ],
      "text/plain": [
       "                count       mean        std   min      25%    50%   75%  \\\n",
       "temperature    2132.0  56.077603  19.693321 -6.73  41.5725  56.12  70.4   \n",
       "precipitation  2106.0   0.002723   0.014793  0.00   0.0000   0.00   0.0   \n",
       "\n",
       "                   max  \n",
       "temperature    112.940  \n",
       "precipitation    0.257  "
      ]
     },
     "execution_count": 4,
     "metadata": {},
     "output_type": "execute_result"
    }
   ],
   "source": [
    "raw.describe().T"
   ]
  },
  {
   "cell_type": "markdown",
   "metadata": {},
   "source": [
    "### 1.2 Foundings\n",
    "\n",
    "- Goal: To predict temperature of Capital Center on the next day(2019-01-24), since the last date appears in data is 2019-01-23.\n",
    "\n",
    "As there is a certain physical distance between other 27 arenas and Capital Center(I could be wrong), I assumed the weather of the other 27 arenas barely affect the temperature at 'Capital Center'. Thus, I first filered out data where venue is 'Capital Center'."
   ]
  },
  {
   "cell_type": "code",
   "execution_count": 5,
   "metadata": {
    "scrolled": true
   },
   "outputs": [
    {
     "data": {
      "text/html": [
       "<div>\n",
       "<style scoped>\n",
       "    .dataframe tbody tr th:only-of-type {\n",
       "        vertical-align: middle;\n",
       "    }\n",
       "\n",
       "    .dataframe tbody tr th {\n",
       "        vertical-align: top;\n",
       "    }\n",
       "\n",
       "    .dataframe thead th {\n",
       "        text-align: right;\n",
       "    }\n",
       "</style>\n",
       "<table border=\"1\" class=\"dataframe\">\n",
       "  <thead>\n",
       "    <tr style=\"text-align: right;\">\n",
       "      <th></th>\n",
       "      <th>date</th>\n",
       "      <th>venue</th>\n",
       "      <th>temperature</th>\n",
       "      <th>precipitation</th>\n",
       "    </tr>\n",
       "    <tr>\n",
       "      <th>id</th>\n",
       "      <th></th>\n",
       "      <th></th>\n",
       "      <th></th>\n",
       "      <th></th>\n",
       "    </tr>\n",
       "  </thead>\n",
       "  <tbody>\n",
       "    <tr>\n",
       "      <th>1521700024</th>\n",
       "      <td>2017-07-10</td>\n",
       "      <td>Capital Center</td>\n",
       "      <td>83.32</td>\n",
       "      <td>0.0</td>\n",
       "    </tr>\n",
       "    <tr>\n",
       "      <th>1521700033</th>\n",
       "      <td>2017-07-11</td>\n",
       "      <td>Capital Center</td>\n",
       "      <td>88.11</td>\n",
       "      <td>0.0</td>\n",
       "    </tr>\n",
       "    <tr>\n",
       "      <th>21700006</th>\n",
       "      <td>2017-10-18</td>\n",
       "      <td>Capital Center</td>\n",
       "      <td>58.99</td>\n",
       "      <td>0.0</td>\n",
       "    </tr>\n",
       "    <tr>\n",
       "      <th>21700020</th>\n",
       "      <td>2017-10-20</td>\n",
       "      <td>Capital Center</td>\n",
       "      <td>68.67</td>\n",
       "      <td>0.0</td>\n",
       "    </tr>\n",
       "    <tr>\n",
       "      <th>21700108</th>\n",
       "      <td>2017-11-01</td>\n",
       "      <td>Capital Center</td>\n",
       "      <td>50.96</td>\n",
       "      <td>0.0</td>\n",
       "    </tr>\n",
       "  </tbody>\n",
       "</table>\n",
       "</div>"
      ],
      "text/plain": [
       "                  date           venue  temperature  precipitation\n",
       "id                                                                \n",
       "1521700024  2017-07-10  Capital Center        83.32            0.0\n",
       "1521700033  2017-07-11  Capital Center        88.11            0.0\n",
       "21700006    2017-10-18  Capital Center        58.99            0.0\n",
       "21700020    2017-10-20  Capital Center        68.67            0.0\n",
       "21700108    2017-11-01  Capital Center        50.96            0.0"
      ]
     },
     "execution_count": 5,
     "metadata": {},
     "output_type": "execute_result"
    }
   ],
   "source": [
    "cc = raw[raw.venue == 'Capital Center'].sort_values('date')\n",
    "cc.head()"
   ]
  },
  {
   "cell_type": "markdown",
   "metadata": {},
   "source": [
    "Great, no missing value."
   ]
  },
  {
   "cell_type": "code",
   "execution_count": 6,
   "metadata": {},
   "outputs": [
    {
     "data": {
      "text/plain": [
       "date             0\n",
       "venue            0\n",
       "temperature      0\n",
       "precipitation    0\n",
       "dtype: int64"
      ]
     },
     "execution_count": 6,
     "metadata": {},
     "output_type": "execute_result"
    }
   ],
   "source": [
    "cc.isnull().sum()"
   ]
  },
  {
   "cell_type": "code",
   "execution_count": 7,
   "metadata": {
    "scrolled": true
   },
   "outputs": [
    {
     "data": {
      "text/html": [
       "<div>\n",
       "<style scoped>\n",
       "    .dataframe tbody tr th:only-of-type {\n",
       "        vertical-align: middle;\n",
       "    }\n",
       "\n",
       "    .dataframe tbody tr th {\n",
       "        vertical-align: top;\n",
       "    }\n",
       "\n",
       "    .dataframe thead th {\n",
       "        text-align: right;\n",
       "    }\n",
       "</style>\n",
       "<table border=\"1\" class=\"dataframe\">\n",
       "  <thead>\n",
       "    <tr style=\"text-align: right;\">\n",
       "      <th></th>\n",
       "      <th>date</th>\n",
       "      <th>venue</th>\n",
       "      <th>temperature</th>\n",
       "      <th>precipitation</th>\n",
       "      <th>date_after</th>\n",
       "      <th>days_after</th>\n",
       "    </tr>\n",
       "    <tr>\n",
       "      <th>id</th>\n",
       "      <th></th>\n",
       "      <th></th>\n",
       "      <th></th>\n",
       "      <th></th>\n",
       "      <th></th>\n",
       "      <th></th>\n",
       "    </tr>\n",
       "  </thead>\n",
       "  <tbody>\n",
       "    <tr>\n",
       "      <th>1521700024</th>\n",
       "      <td>2017-07-10</td>\n",
       "      <td>Capital Center</td>\n",
       "      <td>83.32</td>\n",
       "      <td>0.0</td>\n",
       "      <td>2017-07-11</td>\n",
       "      <td>1 days</td>\n",
       "    </tr>\n",
       "    <tr>\n",
       "      <th>1521700033</th>\n",
       "      <td>2017-07-11</td>\n",
       "      <td>Capital Center</td>\n",
       "      <td>88.11</td>\n",
       "      <td>0.0</td>\n",
       "      <td>2017-10-18</td>\n",
       "      <td>99 days</td>\n",
       "    </tr>\n",
       "    <tr>\n",
       "      <th>21700006</th>\n",
       "      <td>2017-10-18</td>\n",
       "      <td>Capital Center</td>\n",
       "      <td>58.99</td>\n",
       "      <td>0.0</td>\n",
       "      <td>2017-10-20</td>\n",
       "      <td>2 days</td>\n",
       "    </tr>\n",
       "    <tr>\n",
       "      <th>21700020</th>\n",
       "      <td>2017-10-20</td>\n",
       "      <td>Capital Center</td>\n",
       "      <td>68.67</td>\n",
       "      <td>0.0</td>\n",
       "      <td>2017-11-01</td>\n",
       "      <td>12 days</td>\n",
       "    </tr>\n",
       "    <tr>\n",
       "      <th>21700108</th>\n",
       "      <td>2017-11-01</td>\n",
       "      <td>Capital Center</td>\n",
       "      <td>50.96</td>\n",
       "      <td>0.0</td>\n",
       "      <td>2017-11-03</td>\n",
       "      <td>2 days</td>\n",
       "    </tr>\n",
       "  </tbody>\n",
       "</table>\n",
       "</div>"
      ],
      "text/plain": [
       "                 date           venue  temperature  precipitation date_after  \\\n",
       "id                                                                             \n",
       "1521700024 2017-07-10  Capital Center        83.32            0.0 2017-07-11   \n",
       "1521700033 2017-07-11  Capital Center        88.11            0.0 2017-10-18   \n",
       "21700006   2017-10-18  Capital Center        58.99            0.0 2017-10-20   \n",
       "21700020   2017-10-20  Capital Center        68.67            0.0 2017-11-01   \n",
       "21700108   2017-11-01  Capital Center        50.96            0.0 2017-11-03   \n",
       "\n",
       "           days_after  \n",
       "id                     \n",
       "1521700024     1 days  \n",
       "1521700033    99 days  \n",
       "21700006       2 days  \n",
       "21700020      12 days  \n",
       "21700108       2 days  "
      ]
     },
     "execution_count": 7,
     "metadata": {},
     "output_type": "execute_result"
    }
   ],
   "source": [
    "tmp = cc.copy()\n",
    "tmp['date'] = pd.to_datetime(tmp['date'])\n",
    "tmp['date_after'] = pd.to_datetime(cc.date.shift(periods=-1, fill_value=cc.date.iloc[-1]))\n",
    "tmp['days_after'] = tmp['date_after'] - tmp['date']\n",
    "tmp.head()"
   ]
  },
  {
   "cell_type": "markdown",
   "metadata": {},
   "source": [
    "#### This filtered data has unevenly-spaced time interval. Looks like it does not record during offseason, and only record on game day I guess?"
   ]
  },
  {
   "cell_type": "code",
   "execution_count": 8,
   "metadata": {},
   "outputs": [
    {
     "data": {
      "text/plain": [
       "0 days      1\n",
       "1 days      3\n",
       "2 days     27\n",
       "3 days      3\n",
       "4 days     12\n",
       "5 days      2\n",
       "6 days      6\n",
       "7 days      3\n",
       "8 days      2\n",
       "11 days     1\n",
       "12 days     2\n",
       "13 days     1\n",
       "15 days     2\n",
       "87 days     1\n",
       "99 days     2\n",
       "Name: days_after, dtype: int64"
      ]
     },
     "execution_count": 8,
     "metadata": {},
     "output_type": "execute_result"
    }
   ],
   "source": [
    "tmp.days_after.value_counts().sort_index()"
   ]
  },
  {
   "cell_type": "markdown",
   "metadata": {},
   "source": [
    "#### Want to predict temperature of the next day, which is '2019-01-24'."
   ]
  },
  {
   "cell_type": "code",
   "execution_count": 9,
   "metadata": {},
   "outputs": [
    {
     "data": {
      "text/html": [
       "<div>\n",
       "<style scoped>\n",
       "    .dataframe tbody tr th:only-of-type {\n",
       "        vertical-align: middle;\n",
       "    }\n",
       "\n",
       "    .dataframe tbody tr th {\n",
       "        vertical-align: top;\n",
       "    }\n",
       "\n",
       "    .dataframe thead th {\n",
       "        text-align: right;\n",
       "    }\n",
       "</style>\n",
       "<table border=\"1\" class=\"dataframe\">\n",
       "  <thead>\n",
       "    <tr style=\"text-align: right;\">\n",
       "      <th></th>\n",
       "      <th>date</th>\n",
       "      <th>venue</th>\n",
       "      <th>temperature</th>\n",
       "      <th>precipitation</th>\n",
       "      <th>date_after</th>\n",
       "      <th>days_after</th>\n",
       "    </tr>\n",
       "    <tr>\n",
       "      <th>id</th>\n",
       "      <th></th>\n",
       "      <th></th>\n",
       "      <th></th>\n",
       "      <th></th>\n",
       "      <th></th>\n",
       "      <th></th>\n",
       "    </tr>\n",
       "  </thead>\n",
       "  <tbody>\n",
       "    <tr>\n",
       "      <th>21800608</th>\n",
       "      <td>2019-01-09</td>\n",
       "      <td>Capital Center</td>\n",
       "      <td>53.26</td>\n",
       "      <td>0.0000</td>\n",
       "      <td>2019-01-11</td>\n",
       "      <td>2 days</td>\n",
       "    </tr>\n",
       "    <tr>\n",
       "      <th>21800622</th>\n",
       "      <td>2019-01-11</td>\n",
       "      <td>Capital Center</td>\n",
       "      <td>32.03</td>\n",
       "      <td>0.0000</td>\n",
       "      <td>2019-01-13</td>\n",
       "      <td>2 days</td>\n",
       "    </tr>\n",
       "    <tr>\n",
       "      <th>21800639</th>\n",
       "      <td>2019-01-13</td>\n",
       "      <td>Capital Center</td>\n",
       "      <td>30.62</td>\n",
       "      <td>0.0012</td>\n",
       "      <td>2019-01-17</td>\n",
       "      <td>4 days</td>\n",
       "    </tr>\n",
       "    <tr>\n",
       "      <th>21800665</th>\n",
       "      <td>2019-01-17</td>\n",
       "      <td>Capital Center</td>\n",
       "      <td>39.73</td>\n",
       "      <td>0.0000</td>\n",
       "      <td>2019-01-21</td>\n",
       "      <td>4 days</td>\n",
       "    </tr>\n",
       "    <tr>\n",
       "      <th>21800693</th>\n",
       "      <td>2019-01-21</td>\n",
       "      <td>Capital Center</td>\n",
       "      <td>27.80</td>\n",
       "      <td>0.0000</td>\n",
       "      <td>2019-01-21</td>\n",
       "      <td>0 days</td>\n",
       "    </tr>\n",
       "  </tbody>\n",
       "</table>\n",
       "</div>"
      ],
      "text/plain": [
       "               date           venue  temperature  precipitation date_after  \\\n",
       "id                                                                           \n",
       "21800608 2019-01-09  Capital Center        53.26         0.0000 2019-01-11   \n",
       "21800622 2019-01-11  Capital Center        32.03         0.0000 2019-01-13   \n",
       "21800639 2019-01-13  Capital Center        30.62         0.0012 2019-01-17   \n",
       "21800665 2019-01-17  Capital Center        39.73         0.0000 2019-01-21   \n",
       "21800693 2019-01-21  Capital Center        27.80         0.0000 2019-01-21   \n",
       "\n",
       "         days_after  \n",
       "id                   \n",
       "21800608     2 days  \n",
       "21800622     2 days  \n",
       "21800639     4 days  \n",
       "21800665     4 days  \n",
       "21800693     0 days  "
      ]
     },
     "execution_count": 9,
     "metadata": {},
     "output_type": "execute_result"
    }
   ],
   "source": [
    "tmp.tail()"
   ]
  },
  {
   "cell_type": "code",
   "execution_count": 10,
   "metadata": {},
   "outputs": [
    {
     "data": {
      "text/plain": [
       "<matplotlib.axes._subplots.AxesSubplot at 0x12bef8ecb38>"
      ]
     },
     "execution_count": 10,
     "metadata": {},
     "output_type": "execute_result"
    },
    {
     "data": {
      "image/png": "[encoded data removed]",
      "text/plain": [
       "<Figure size 432x288 with 1 Axes>"
      ]
     },
     "metadata": {},
     "output_type": "display_data"
    }
   ],
   "source": [
    "cc.plot('date', 'temperature', rot=30)"
   ]
  },
  {
   "cell_type": "markdown",
   "metadata": {},
   "source": [
    "### 1.3 Preprocessing"
   ]
  },
  {
   "cell_type": "code",
   "execution_count": 11,
   "metadata": {
    "scrolled": true
   },
   "outputs": [],
   "source": [
    "def df_to_supervised(df, max_days_after=10):\n",
    "    \"\"\"\n",
    "    transform the original time series to a supervised learning dataset.\n",
    "        df: pd.DataFrame, a multivariate time series\n",
    "        max_days_after: int, prevent a prediction on a long time after.\n",
    "        \n",
    "    returns: df_, a pd.DataFrame prepared for supervised learning.\n",
    "    \"\"\"\n",
    "    df_ = df.sort_values('date').copy()\n",
    "    \n",
    "    df_['date'] = pd.to_datetime(df_['date'])\n",
    "    df_['date_after'] = pd.to_datetime(df_['date'].shift(periods=-1, fill_value=df_['date'].iloc[-1]))\n",
    "    df_['days_after'] = (df_['date_after'] - df_['date']).dt.days\n",
    "    df_['month'] = df_['date_after'].dt.month\n",
    "    df_['y'] = df_['temperature'].shift(periods=-1, fill_value=df_['temperature'].iloc[-1])\n",
    "    \n",
    "    df_ = df_[['month', 'temperature', 'precipitation', 'days_after', 'y']]\n",
    "    df_ = df_[df_['days_after'] <= max_days_after]\n",
    "    \n",
    "    # Last record does not have label(future temperature), so it is removed\n",
    "    df_ = df_.iloc[:-1]\n",
    "    \n",
    "    return df_"
   ]
  },
  {
   "cell_type": "code",
   "execution_count": 12,
   "metadata": {},
   "outputs": [
    {
     "data": {
      "text/html": [
       "<div>\n",
       "<style scoped>\n",
       "    .dataframe tbody tr th:only-of-type {\n",
       "        vertical-align: middle;\n",
       "    }\n",
       "\n",
       "    .dataframe tbody tr th {\n",
       "        vertical-align: top;\n",
       "    }\n",
       "\n",
       "    .dataframe thead th {\n",
       "        text-align: right;\n",
       "    }\n",
       "</style>\n",
       "<table border=\"1\" class=\"dataframe\">\n",
       "  <thead>\n",
       "    <tr style=\"text-align: right;\">\n",
       "      <th></th>\n",
       "      <th>month</th>\n",
       "      <th>temperature</th>\n",
       "      <th>precipitation</th>\n",
       "      <th>days_after</th>\n",
       "      <th>y</th>\n",
       "    </tr>\n",
       "    <tr>\n",
       "      <th>id</th>\n",
       "      <th></th>\n",
       "      <th></th>\n",
       "      <th></th>\n",
       "      <th></th>\n",
       "      <th></th>\n",
       "    </tr>\n",
       "  </thead>\n",
       "  <tbody>\n",
       "    <tr>\n",
       "      <th>21800556</th>\n",
       "      <td>1</td>\n",
       "      <td>50.81</td>\n",
       "      <td>0.0000</td>\n",
       "      <td>7</td>\n",
       "      <td>53.26</td>\n",
       "    </tr>\n",
       "    <tr>\n",
       "      <th>21800608</th>\n",
       "      <td>1</td>\n",
       "      <td>53.26</td>\n",
       "      <td>0.0000</td>\n",
       "      <td>2</td>\n",
       "      <td>32.03</td>\n",
       "    </tr>\n",
       "    <tr>\n",
       "      <th>21800622</th>\n",
       "      <td>1</td>\n",
       "      <td>32.03</td>\n",
       "      <td>0.0000</td>\n",
       "      <td>2</td>\n",
       "      <td>30.62</td>\n",
       "    </tr>\n",
       "    <tr>\n",
       "      <th>21800639</th>\n",
       "      <td>1</td>\n",
       "      <td>30.62</td>\n",
       "      <td>0.0012</td>\n",
       "      <td>4</td>\n",
       "      <td>39.73</td>\n",
       "    </tr>\n",
       "    <tr>\n",
       "      <th>21800665</th>\n",
       "      <td>1</td>\n",
       "      <td>39.73</td>\n",
       "      <td>0.0000</td>\n",
       "      <td>4</td>\n",
       "      <td>27.80</td>\n",
       "    </tr>\n",
       "  </tbody>\n",
       "</table>\n",
       "</div>"
      ],
      "text/plain": [
       "          month  temperature  precipitation  days_after      y\n",
       "id                                                            \n",
       "21800556      1        50.81         0.0000           7  53.26\n",
       "21800608      1        53.26         0.0000           2  32.03\n",
       "21800622      1        32.03         0.0000           2  30.62\n",
       "21800639      1        30.62         0.0012           4  39.73\n",
       "21800665      1        39.73         0.0000           4  27.80"
      ]
     },
     "execution_count": 12,
     "metadata": {},
     "output_type": "execute_result"
    }
   ],
   "source": [
    "cc_ready = df_to_supervised(cc)\n",
    "cc_ready.tail()"
   ]
  },
  {
   "cell_type": "markdown",
   "metadata": {},
   "source": [
    "### 2. Modeling"
   ]
  },
  {
   "cell_type": "markdown",
   "metadata": {},
   "source": [
    "#### 2.1 train test split"
   ]
  },
  {
   "cell_type": "markdown",
   "metadata": {},
   "source": [
    "It is a small dataset with less than 68 observations, so I only split it into train/dev(no test set)."
   ]
  },
  {
   "cell_type": "code",
   "execution_count": 13,
   "metadata": {},
   "outputs": [],
   "source": [
    "def scale_split(df, train_ratio=0.65):\n",
    "    n_train = int(df.values.shape[0]*0.65)\n",
    "    X = df.drop('y', axis=1).values\n",
    "    y = df['y'].values.reshape(df.shape[0], 1)\n",
    "    \n",
    "    X_scaler = StandardScaler()\n",
    "    X = X_scaler.fit_transform(X)\n",
    "    \n",
    "    y_scaler = StandardScaler()\n",
    "    y = y_scaler.fit_transform(y)\n",
    "    \n",
    "    X_train, y_train = X[:n_train, :], y[:n_train]\n",
    "    X_test, y_test = X[n_train:, :], y[n_train:]\n",
    "    \n",
    "    return X_train, y_train, X_test, y_test, X_scaler, y_scaler\n",
    "\n",
    "X_train, y_train, X_test, y_test, X_scaler, y_scaler = scale_split(cc_ready)\n",
    "X_train = X_train.reshape(X_train.shape[0],1,X_train.shape[1])\n",
    "X_test = X_test.reshape(X_test.shape[0],1,X_test.shape[1])"
   ]
  },
  {
   "cell_type": "code",
   "execution_count": 14,
   "metadata": {},
   "outputs": [
    {
     "name": "stdout",
     "output_type": "stream",
     "text": [
      "37 (37, 1, 4) (37, 1)\n",
      "21 (21, 1, 4) (21, 1)\n"
     ]
    }
   ],
   "source": [
    "n_train = y_train.shape[0]\n",
    "n_test = y_test.shape[0]\n",
    "print(n_train, X_train.shape, y_train.shape)\n",
    "print(n_test, X_test.shape, y_test.shape)"
   ]
  },
  {
   "cell_type": "markdown",
   "metadata": {},
   "source": [
    "After trying different combination of hyper-parameters, this is the best combo so far."
   ]
  },
  {
   "cell_type": "code",
   "execution_count": 15,
   "metadata": {
    "scrolled": false
   },
   "outputs": [
    {
     "name": "stdout",
     "output_type": "stream",
     "text": [
      "WARNING:tensorflow:From C:\\Users\\LLC\\Anaconda3\\lib\\site-packages\\tensorflow\\python\\framework\\op_def_library.py:263: colocate_with (from tensorflow.python.framework.ops) is deprecated and will be removed in a future version.\n",
      "Instructions for updating:\n",
      "Colocations handled automatically by placer.\n",
      "WARNING:tensorflow:From C:\\Users\\LLC\\Anaconda3\\lib\\site-packages\\tensorflow\\python\\ops\\math_ops.py:3066: to_int32 (from tensorflow.python.ops.math_ops) is deprecated and will be removed in a future version.\n",
      "Instructions for updating:\n",
      "Use tf.cast instead.\n"
     ]
    },
    {
     "data": {
      "image/png": "[encoded data removed]",
      "text/plain": [
       "<Figure size 432x288 with 1 Axes>"
      ]
     },
     "metadata": {},
     "output_type": "display_data"
    },
    {
     "name": "stdout",
     "output_type": "stream",
     "text": [
      "Test RMSE: 10.499\n"
     ]
    }
   ],
   "source": [
    "# design network\n",
    "model = Sequential()\n",
    "model.add(LSTM(50, input_shape=(X_train.shape[1], X_train.shape[2])))\n",
    "model.add(Dense(1))\n",
    "model.compile(loss='mse', optimizer='adam')\n",
    "\n",
    "# fit network\n",
    "reg = model.fit(X_train, \n",
    "                y_train, \n",
    "                epochs=150, \n",
    "                batch_size=X_train.shape[0], \n",
    "                validation_data=(X_test, y_test), \n",
    "                verbose=0, \n",
    "                shuffle=False)\n",
    "\n",
    "# plot history\n",
    "plt.plot(reg.history['loss'], label='train')\n",
    "plt.plot(reg.history['val_loss'], label='test')\n",
    "plt.legend()\n",
    "plt.show()\n",
    "\n",
    "y_pred = model.predict(X_test)\n",
    "\n",
    "# calculate RMSE\n",
    "rmse = mean_squared_error(y_scaler.inverse_transform(y_test), y_scaler.inverse_transform(y_pred)) ** 0.5\n",
    "print('Test RMSE: %.3f' % rmse)"
   ]
  },
  {
   "cell_type": "markdown",
   "metadata": {},
   "source": [
    "It is weird that loss on test set is lower then on train set."
   ]
  },
  {
   "cell_type": "code",
   "execution_count": 16,
   "metadata": {
    "scrolled": false
   },
   "outputs": [
    {
     "data": {
      "text/plain": [
       "<matplotlib.legend.Legend at 0x12d78186588>"
      ]
     },
     "execution_count": 16,
     "metadata": {},
     "output_type": "execute_result"
    },
    {
     "data": {
      "image/png": "[encoded data removed]",
      "text/plain": [
       "<Figure size 432x288 with 1 Axes>"
      ]
     },
     "metadata": {},
     "output_type": "display_data"
    }
   ],
   "source": [
    "plt.locator_params(axis='x', nbins=15)\n",
    "plt.plot(range(n_test), y_scaler.inverse_transform(y_test), label='actual')\n",
    "plt.plot(range(n_test), y_scaler.inverse_transform(y_pred), label='prediction')\n",
    "# plt.xticks(rotation=30)\n",
    "plt.legend()"
   ]
  },
  {
   "cell_type": "code",
   "execution_count": 17,
   "metadata": {},
   "outputs": [
    {
     "data": {
      "text/plain": [
       "date                 2019-01-21\n",
       "venue            Capital Center\n",
       "temperature                27.8\n",
       "precipitation                 0\n",
       "Name: 21800693, dtype: object"
      ]
     },
     "execution_count": 17,
     "metadata": {},
     "output_type": "execute_result"
    }
   ],
   "source": [
    "cc.iloc[-1]"
   ]
  },
  {
   "cell_type": "code",
   "execution_count": 18,
   "metadata": {},
   "outputs": [
    {
     "name": "stdout",
     "output_type": "stream",
     "text": [
      "Model tells us the temperature of Capital Center on 2019-01-24 would be 60.98°F\n"
     ]
    }
   ],
   "source": [
    "X_190124 = X_scaler.fit_transform(np.array([1, 27.8, 0, 3]).reshape(4,1)).reshape(1,1,4)\n",
    "\n",
    "y_190124 = round(float(y_scaler.inverse_transform(model.predict(X_190124))), 2)\n",
    "print(f'Model tells us the temperature of Capital Center on 2019-01-24 would be {y_190124}°F')"
   ]
  },
  {
   "cell_type": "code",
   "execution_count": 19,
   "metadata": {},
   "outputs": [],
   "source": [
    "model.save('./model0.hdf5')"
   ]
  },
  {
   "cell_type": "markdown",
   "metadata": {},
   "source": [
    "### Conclusion\n",
    "\n",
    "First I was disappointed at my model since 4 days ago it was only 27.8°F. Then I checked the actual temperature. But it surprised me that the tempurature did go up to around 57°F before 12pm! Although it did cool down later because of a sudden heavy rain.\n",
    "\n",
    "\n",
    "<img src=\"https://user-images.githubusercontent.com/43755001/54408661-09dec800-46b9-11e9-8658-7f168d262f2c.png\" style=\"width:400;height:200px;\">\n",
    "\n",
    "screenshot from: [source](https://www.wunderground.com/personal-weather-station/dashboard?ID=KMDHYATT11&scrollTo=historyTable#history/s20190124/e20190124/mdaily)\n",
    "\n",
    "\n",
    "Afterall, it could definitely be improved with more time. Reforming the dataframe to include more than just one past record for each observation and/or also training model on other 27 venues might help.\n",
    "\n",
    "Any advice would be appreciated and thanks for reading my work."
   ]
  },
  {
   "cell_type": "markdown",
   "metadata": {},
   "source": [
    "-------"
   ]
  },
  {
   "cell_type": "code",
   "execution_count": 20,
   "metadata": {
    "scrolled": true
   },
   "outputs": [
    {
     "data": {
      "text/plain": [
       "[<matplotlib.lines.Line2D at 0x12d78209b38>]"
      ]
     },
     "execution_count": 20,
     "metadata": {},
     "output_type": "execute_result"
    },
    {
     "data": {
      "image/png": "[encoded data removed]",
      "text/plain": [
       "<Figure size 432x288 with 1 Axes>"
      ]
     },
     "metadata": {},
     "output_type": "display_data"
    }
   ],
   "source": [
    "# Comparation between temperature at Capital Center and other 27 venues.\n",
    "plt.plot(raw[raw.venue != 'Capital Center'].sort_values('date').date, raw[raw.venue != 'Capital Center'].sort_values('date').temperature)\n",
    "plt.plot(raw[raw.venue == 'Capital Center'].sort_values('date').date, raw[raw.venue == 'Capital Center'].sort_values('date').temperature)\n",
    "# plt.plot(df[df.isnull().any(axis=1)].sort_values('date').date, df[df.isnull().any(axis=1)].sort_values('date').temperature)"
   ]
  }
 ],
 "metadata": {
  "kernelspec": {
   "display_name": "Python 3",
   "language": "python",
   "name": "python3"
  },
  "language_info": {
   "codemirror_mode": {
    "name": "ipython",
    "version": 3
   },
   "file_extension": ".py",
   "mimetype": "text/x-python",
   "name": "python",
   "nbconvert_exporter": "python",
   "pygments_lexer": "ipython3",
   "version": "3.6.5"
  }
 },
 "nbformat": 4,
 "nbformat_minor": 2
}
